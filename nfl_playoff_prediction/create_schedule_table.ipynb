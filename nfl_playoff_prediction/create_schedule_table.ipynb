{
 "cells": [
  {
   "cell_type": "code",
   "execution_count": null,
   "id": "a323249a-5778-4aaa-b38c-038b2fd7f39c",
   "metadata": {},
   "outputs": [],
   "source": [
    "import requests\n",
    "import numpy as np\n",
    "import pandas as pd"
   ]
  },
  {
   "cell_type": "code",
   "execution_count": null,
   "id": "f40a259a-e0d5-463d-9b85-1273a2093dae",
   "metadata": {},
   "outputs": [],
   "source": [
    "df = pd.DataFrame(columns = ['Away Team', 'Home Team'])"
   ]
  },
  {
   "cell_type": "code",
   "execution_count": null,
   "id": "14c70abe-da99-462f-a0a4-bb4034632a69",
   "metadata": {},
   "outputs": [],
   "source": [
    "for week in range(1, 19):\n",
    "    page_content = requests.get(f'https://cdn.espn.com/core/nfl/schedule?xhr=1&year=2024&week={week}')\n",
    "    page_content = page_content.json()\n",
    "\n",
    "    schedule = page_content['content']['schedule']\n",
    "    game_dates = schedule.keys()\n",
    "\n",
    "    for day in game_dates:\n",
    "        for game in schedule[day][\"games\"]:\n",
    "            df = pd.concat([df, pd.DataFrame(np.array(game[\"name\"].split(' at ')).reshape(1, 2), columns = ['Away Team', 'Home Team'])])"
   ]
  },
  {
   "cell_type": "code",
   "execution_count": null,
   "id": "2da64dd9-bf05-41bc-b5f0-7478d49073ee",
   "metadata": {},
   "outputs": [
    {
     "data": {
      "text/plain": [
       "(272, 2)"
      ]
     },
     "execution_count": null,
     "metadata": {},
     "output_type": "execute_result"
    }
   ],
   "source": [
    "df.shape"
   ]
  },
  {
   "cell_type": "code",
   "execution_count": null,
   "id": "9822428c-0412-4352-8433-cc2aab8cc75e",
   "metadata": {},
   "outputs": [],
   "source": [
    "df.index = range(df.shape[0])"
   ]
  },
  {
   "cell_type": "code",
   "execution_count": null,
   "id": "06f82e22-fe0d-4fbd-89fd-cf1e8db200e5",
   "metadata": {},
   "outputs": [
    {
     "data": {
      "text/html": [
       "<div>\n",
       "<style scoped>\n",
       "    .dataframe tbody tr th:only-of-type {\n",
       "        vertical-align: middle;\n",
       "    }\n",
       "\n",
       "    .dataframe tbody tr th {\n",
       "        vertical-align: top;\n",
       "    }\n",
       "\n",
       "    .dataframe thead th {\n",
       "        text-align: right;\n",
       "    }\n",
       "</style>\n",
       "<table border=\"1\" class=\"dataframe\">\n",
       "  <thead>\n",
       "    <tr style=\"text-align: right;\">\n",
       "      <th></th>\n",
       "      <th>Away Team</th>\n",
       "      <th>Home Team</th>\n",
       "    </tr>\n",
       "  </thead>\n",
       "  <tbody>\n",
       "    <tr>\n",
       "      <th>0</th>\n",
       "      <td>Baltimore Ravens</td>\n",
       "      <td>Kansas City Chiefs</td>\n",
       "    </tr>\n",
       "    <tr>\n",
       "      <th>1</th>\n",
       "      <td>Green Bay Packers</td>\n",
       "      <td>Philadelphia Eagles</td>\n",
       "    </tr>\n",
       "    <tr>\n",
       "      <th>2</th>\n",
       "      <td>Pittsburgh Steelers</td>\n",
       "      <td>Atlanta Falcons</td>\n",
       "    </tr>\n",
       "    <tr>\n",
       "      <th>3</th>\n",
       "      <td>Arizona Cardinals</td>\n",
       "      <td>Buffalo Bills</td>\n",
       "    </tr>\n",
       "    <tr>\n",
       "      <th>4</th>\n",
       "      <td>Tennessee Titans</td>\n",
       "      <td>Chicago Bears</td>\n",
       "    </tr>\n",
       "  </tbody>\n",
       "</table>\n",
       "</div>"
      ],
      "text/plain": [
       "             Away Team            Home Team\n",
       "0     Baltimore Ravens   Kansas City Chiefs\n",
       "1    Green Bay Packers  Philadelphia Eagles\n",
       "2  Pittsburgh Steelers      Atlanta Falcons\n",
       "3    Arizona Cardinals        Buffalo Bills\n",
       "4     Tennessee Titans        Chicago Bears"
      ]
     },
     "execution_count": null,
     "metadata": {},
     "output_type": "execute_result"
    }
   ],
   "source": [
    "df.head()"
   ]
  },
  {
   "cell_type": "code",
   "execution_count": null,
   "id": "991afa23-33a9-4f89-9536-b99a275afe5a",
   "metadata": {},
   "outputs": [],
   "source": [
    "df.to_csv('season_schedule.csv', index=False)"
   ]
  }
 ],
 "metadata": {
  "kernelspec": {
   "display_name": "Python 3 (ipykernel)",
   "language": "python",
   "name": "python3"
  },
  "language_info": {
   "codemirror_mode": {
    "name": "ipython",
    "version": 3
   },
   "file_extension": ".py",
   "mimetype": "text/x-python",
   "name": "python",
   "nbconvert_exporter": "python",
   "pygments_lexer": "ipython3",
   "version": "3.9.18"
  }
 },
 "nbformat": 4,
 "nbformat_minor": 5
}
