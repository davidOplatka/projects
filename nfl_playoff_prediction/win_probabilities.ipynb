{
 "cells": [
  {
   "cell_type": "markdown",
   "id": "d8c5ed1b-3da0-4fce-88bc-7be737a9b6f8",
   "metadata": {},
   "source": [
    "## Win Probabilities\n",
    "\n",
    "To determine the win probabilities of each team for a given match, I created a tier list (S, A, B, C, D, and F) of all 32 NFL teams.\n",
    "\n",
    "<img src=\"tier_list.png\" alt=\"NFL Teams Tier List\" width=\"450\"/>\n",
    "Note: there is no particular order of teams within each tier.\n",
    "\n",
    "I then assigned a win probability to each of these tiers based on the projected record for that tier (e.g. S tier is projected to win 12.5 games, so their win probability is about 0.74):\n",
    "\n",
    "* S - 0.74\n",
    "* A - 0.65\n",
    "* B - 0.56\n",
    "* C - 0.50\n",
    "* D - 0.41\n",
    "* F - 0.24"
   ]
  },
  {
   "cell_type": "code",
   "execution_count": null,
   "id": "4f2f169b-0887-4a98-9b02-585fe9b500d2",
   "metadata": {},
   "outputs": [],
   "source": [
    "import pandas as pd"
   ]
  },
  {
   "cell_type": "code",
   "execution_count": null,
   "id": "a53df074-fa55-440b-bfbc-b949397878e8",
   "metadata": {},
   "outputs": [],
   "source": [
    "schedule = pd.read_csv('season_schedule.csv')"
   ]
  },
  {
   "cell_type": "code",
   "execution_count": null,
   "id": "9a7afe95-c0fb-4ccb-b2cd-6780790b6552",
   "metadata": {},
   "outputs": [
    {
     "data": {
      "text/html": [
       "<div>\n",
       "<style scoped>\n",
       "    .dataframe tbody tr th:only-of-type {\n",
       "        vertical-align: middle;\n",
       "    }\n",
       "\n",
       "    .dataframe tbody tr th {\n",
       "        vertical-align: top;\n",
       "    }\n",
       "\n",
       "    .dataframe thead th {\n",
       "        text-align: right;\n",
       "    }\n",
       "</style>\n",
       "<table border=\"1\" class=\"dataframe\">\n",
       "  <thead>\n",
       "    <tr style=\"text-align: right;\">\n",
       "      <th></th>\n",
       "      <th>Away Team</th>\n",
       "      <th>Home Team</th>\n",
       "    </tr>\n",
       "  </thead>\n",
       "  <tbody>\n",
       "    <tr>\n",
       "      <th>0</th>\n",
       "      <td>Baltimore Ravens</td>\n",
       "      <td>Kansas City Chiefs</td>\n",
       "    </tr>\n",
       "    <tr>\n",
       "      <th>1</th>\n",
       "      <td>Green Bay Packers</td>\n",
       "      <td>Philadelphia Eagles</td>\n",
       "    </tr>\n",
       "    <tr>\n",
       "      <th>2</th>\n",
       "      <td>Pittsburgh Steelers</td>\n",
       "      <td>Atlanta Falcons</td>\n",
       "    </tr>\n",
       "    <tr>\n",
       "      <th>3</th>\n",
       "      <td>Arizona Cardinals</td>\n",
       "      <td>Buffalo Bills</td>\n",
       "    </tr>\n",
       "    <tr>\n",
       "      <th>4</th>\n",
       "      <td>Tennessee Titans</td>\n",
       "      <td>Chicago Bears</td>\n",
       "    </tr>\n",
       "  </tbody>\n",
       "</table>\n",
       "</div>"
      ],
      "text/plain": [
       "             Away Team            Home Team\n",
       "0     Baltimore Ravens   Kansas City Chiefs\n",
       "1    Green Bay Packers  Philadelphia Eagles\n",
       "2  Pittsburgh Steelers      Atlanta Falcons\n",
       "3    Arizona Cardinals        Buffalo Bills\n",
       "4     Tennessee Titans        Chicago Bears"
      ]
     },
     "execution_count": null,
     "metadata": {},
     "output_type": "execute_result"
    }
   ],
   "source": [
    "schedule.head()"
   ]
  },
  {
   "cell_type": "code",
   "execution_count": null,
   "id": "d3fed848-f40e-4e3c-866f-b107c0d84e5d",
   "metadata": {},
   "outputs": [],
   "source": [
    "win_probabilities = pd.Series(\n",
    "    data = [12.5/17]*4 + [11/17]*5 + [9.5/17]*5 + [8.5/17]*6 + [7/17]*6 + [4/17]*6,\n",
    "    index = [\n",
    "        'Detroit Lions',\n",
    "        'San Francisco 49ers',\n",
    "        'Baltimore Ravens',\n",
    "        'Kansas City Chiefs',\n",
    "        'Green Bay Packers',\n",
    "        'Philadelphia Eagles',\n",
    "        'Cincinnati Bengals',\n",
    "        'Houston Texans',\n",
    "        'Buffalo Bills',\n",
    "        'Atlanta Falcons',\n",
    "        'Dallas Cowboys',\n",
    "        'Los Angeles Rams',\n",
    "        'Cleveland Browns',\n",
    "        'New York Jets',\n",
    "        'Chicago Bears',\n",
    "        'Tampa Bay Buccaneers',\n",
    "        'Seattle Seahawks',\n",
    "        'Pittsburgh Steelers',\n",
    "        'Jacksonville Jaguars',\n",
    "        'Miami Dolphins',\n",
    "        'Minnesota Vikings',\n",
    "        'New Orleans Saints',\n",
    "        'Arizona Cardinals',\n",
    "        'Indianapolis Colts',\n",
    "        'Las Vegas Raiders',\n",
    "        'Los Angeles Chargers',\n",
    "        'Carolina Panthers',\n",
    "        'New York Giants',\n",
    "        'Washington Commanders',\n",
    "        'Tennessee Titans',\n",
    "        'New England Patriots',\n",
    "        'Denver Broncos',\n",
    "    ]\n",
    ")"
   ]
  },
  {
   "cell_type": "code",
   "execution_count": null,
   "id": "2547caaa-dae9-44d1-b869-475593a54e7a",
   "metadata": {},
   "outputs": [
    {
     "data": {
      "text/plain": [
       "Detroit Lions          0.735294\n",
       "San Francisco 49ers    0.735294\n",
       "Baltimore Ravens       0.735294\n",
       "Kansas City Chiefs     0.735294\n",
       "Green Bay Packers      0.647059\n",
       "dtype: float64"
      ]
     },
     "execution_count": null,
     "metadata": {},
     "output_type": "execute_result"
    }
   ],
   "source": [
    "win_probabilities.head()"
   ]
  },
  {
   "cell_type": "code",
   "execution_count": null,
   "id": "25ff350a-37f9-4025-9bee-ed2b4b1dd628",
   "metadata": {},
   "outputs": [
    {
     "data": {
      "text/plain": [
       "New York Giants          0.235294\n",
       "Washington Commanders    0.235294\n",
       "Tennessee Titans         0.235294\n",
       "New England Patriots     0.235294\n",
       "Denver Broncos           0.235294\n",
       "dtype: float64"
      ]
     },
     "execution_count": null,
     "metadata": {},
     "output_type": "execute_result"
    }
   ],
   "source": [
    "win_probabilities.tail()"
   ]
  },
  {
   "cell_type": "code",
   "execution_count": null,
   "id": "dbd5f239-d0c7-448c-938c-9d52c29eac7f",
   "metadata": {},
   "outputs": [],
   "source": [
    "schedule['Home Team Win Probability'] = [win_probabilities[home_team] / (win_probabilities[home_team] + win_probabilities[away_team]) for away_team, home_team in zip(schedule['Away Team'], schedule['Home Team'])]"
   ]
  },
  {
   "cell_type": "code",
   "execution_count": null,
   "id": "959bde1a-3138-4a81-b610-0aeeacc942fc",
   "metadata": {},
   "outputs": [
    {
     "data": {
      "text/html": [
       "<div>\n",
       "<style scoped>\n",
       "    .dataframe tbody tr th:only-of-type {\n",
       "        vertical-align: middle;\n",
       "    }\n",
       "\n",
       "    .dataframe tbody tr th {\n",
       "        vertical-align: top;\n",
       "    }\n",
       "\n",
       "    .dataframe thead th {\n",
       "        text-align: right;\n",
       "    }\n",
       "</style>\n",
       "<table border=\"1\" class=\"dataframe\">\n",
       "  <thead>\n",
       "    <tr style=\"text-align: right;\">\n",
       "      <th></th>\n",
       "      <th>Away Team</th>\n",
       "      <th>Home Team</th>\n",
       "      <th>Home Team Win Probability</th>\n",
       "    </tr>\n",
       "  </thead>\n",
       "  <tbody>\n",
       "    <tr>\n",
       "      <th>0</th>\n",
       "      <td>Baltimore Ravens</td>\n",
       "      <td>Kansas City Chiefs</td>\n",
       "      <td>0.500000</td>\n",
       "    </tr>\n",
       "    <tr>\n",
       "      <th>1</th>\n",
       "      <td>Green Bay Packers</td>\n",
       "      <td>Philadelphia Eagles</td>\n",
       "      <td>0.500000</td>\n",
       "    </tr>\n",
       "    <tr>\n",
       "      <th>2</th>\n",
       "      <td>Pittsburgh Steelers</td>\n",
       "      <td>Atlanta Falcons</td>\n",
       "      <td>0.527778</td>\n",
       "    </tr>\n",
       "    <tr>\n",
       "      <th>3</th>\n",
       "      <td>Arizona Cardinals</td>\n",
       "      <td>Buffalo Bills</td>\n",
       "      <td>0.611111</td>\n",
       "    </tr>\n",
       "    <tr>\n",
       "      <th>4</th>\n",
       "      <td>Tennessee Titans</td>\n",
       "      <td>Chicago Bears</td>\n",
       "      <td>0.680000</td>\n",
       "    </tr>\n",
       "  </tbody>\n",
       "</table>\n",
       "</div>"
      ],
      "text/plain": [
       "             Away Team            Home Team  Home Team Win Probability\n",
       "0     Baltimore Ravens   Kansas City Chiefs                   0.500000\n",
       "1    Green Bay Packers  Philadelphia Eagles                   0.500000\n",
       "2  Pittsburgh Steelers      Atlanta Falcons                   0.527778\n",
       "3    Arizona Cardinals        Buffalo Bills                   0.611111\n",
       "4     Tennessee Titans        Chicago Bears                   0.680000"
      ]
     },
     "execution_count": null,
     "metadata": {},
     "output_type": "execute_result"
    }
   ],
   "source": [
    "schedule.head()"
   ]
  },
  {
   "cell_type": "code",
   "execution_count": null,
   "id": "c44bed73-79e3-407b-b2a4-04ef2c91aadb",
   "metadata": {},
   "outputs": [
    {
     "data": {
      "text/html": [
       "<div>\n",
       "<style scoped>\n",
       "    .dataframe tbody tr th:only-of-type {\n",
       "        vertical-align: middle;\n",
       "    }\n",
       "\n",
       "    .dataframe tbody tr th {\n",
       "        vertical-align: top;\n",
       "    }\n",
       "\n",
       "    .dataframe thead th {\n",
       "        text-align: right;\n",
       "    }\n",
       "</style>\n",
       "<table border=\"1\" class=\"dataframe\">\n",
       "  <thead>\n",
       "    <tr style=\"text-align: right;\">\n",
       "      <th></th>\n",
       "      <th>Home Team Win Probability</th>\n",
       "    </tr>\n",
       "  </thead>\n",
       "  <tbody>\n",
       "    <tr>\n",
       "      <th>count</th>\n",
       "      <td>272.000000</td>\n",
       "    </tr>\n",
       "    <tr>\n",
       "      <th>mean</th>\n",
       "      <td>0.499753</td>\n",
       "    </tr>\n",
       "    <tr>\n",
       "      <th>std</th>\n",
       "      <td>0.125381</td>\n",
       "    </tr>\n",
       "    <tr>\n",
       "      <th>min</th>\n",
       "      <td>0.242424</td>\n",
       "    </tr>\n",
       "    <tr>\n",
       "      <th>25%</th>\n",
       "      <td>0.424242</td>\n",
       "    </tr>\n",
       "    <tr>\n",
       "      <th>50%</th>\n",
       "      <td>0.500000</td>\n",
       "    </tr>\n",
       "    <tr>\n",
       "      <th>75%</th>\n",
       "      <td>0.575758</td>\n",
       "    </tr>\n",
       "    <tr>\n",
       "      <th>max</th>\n",
       "      <td>0.757576</td>\n",
       "    </tr>\n",
       "  </tbody>\n",
       "</table>\n",
       "</div>"
      ],
      "text/plain": [
       "       Home Team Win Probability\n",
       "count                 272.000000\n",
       "mean                    0.499753\n",
       "std                     0.125381\n",
       "min                     0.242424\n",
       "25%                     0.424242\n",
       "50%                     0.500000\n",
       "75%                     0.575758\n",
       "max                     0.757576"
      ]
     },
     "execution_count": null,
     "metadata": {},
     "output_type": "execute_result"
    }
   ],
   "source": [
    "schedule.describe()"
   ]
  },
  {
   "cell_type": "code",
   "execution_count": null,
   "id": "464fc569-cc15-4098-8f46-f843ae4abe71",
   "metadata": {},
   "outputs": [],
   "source": [
    "schedule.to_csv('game_win_probabilities.csv', index=False)"
   ]
  }
 ],
 "metadata": {
  "kernelspec": {
   "display_name": "Python 3 (ipykernel)",
   "language": "python",
   "name": "python3"
  },
  "language_info": {
   "codemirror_mode": {
    "name": "ipython",
    "version": 3
   },
   "file_extension": ".py",
   "mimetype": "text/x-python",
   "name": "python",
   "nbconvert_exporter": "python",
   "pygments_lexer": "ipython3",
   "version": "3.9.18"
  }
 },
 "nbformat": 4,
 "nbformat_minor": 5
}
